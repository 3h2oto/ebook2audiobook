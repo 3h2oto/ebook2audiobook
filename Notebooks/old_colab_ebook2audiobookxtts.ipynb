{
  "nbformat": 4,
  "nbformat_minor": 0,
  "metadata": {
    "colab": {
      "provenance": [],
      "gpuType": "T4"
    },
    "kernelspec": {
      "name": "python3",
      "display_name": "Python 3"
    },
    "language_info": {
      "name": "python"
    },
    "accelerator": "GPU"
  },
  "cells": [
    {
      "cell_type": "code",
      "execution_count": null,
      "metadata": {
        "id": "gh3HEhmzuqVA"
      },
      "outputs": [],
      "source": [
        "# IGNORE THESE ITS OLD LOL\n",
        "# install needed packages\n",
        "##!apt-get update\n",
        "##!apt-get install wget unzip git ffmpeg calibre\n",
        "\n",
        "# pip install requirments\n",
        "##!pip install tts==0.21.3 pydub nltk beautifulsoup4 ebooklib tqdm gradio\n",
        "\n",
        "##!pip install numpy==1.23\n",
        "##!pip install --no-binary lxml lxml\n",
        "##import os\n",
        "##os.kill(os.getpid(), 9)\n"
      ]
    },
    {
      "cell_type": "code",
      "source": [
        "#!DEBIAN_FRONTEND=noninteractive\n",
        "!sudo apt-get update # && sudo apt-get -y upgrade\n",
        "!sudo apt-get -y install libegl1\n",
        "!sudo apt-get -y install libopengl0\n",
        "!sudo apt-get -y install libxcb-cursor0\n",
        "!sudo -v && wget -nv -O- https://download.calibre-ebook.com/linux-installer.sh | sudo sh /dev/stdin\n",
        "!sudo apt-get install -y ffmpeg\n",
        "!pip install tts pydub nltk beautifulsoup4 ebooklib tqdm\n",
        "!pip install numpy==1.26.4\n",
        "!pip install gradio"
      ],
      "metadata": {
        "id": "Edxj355K0rUz",
        "collapsed": true
      },
      "execution_count": null,
      "outputs": []
    },
    {
      "cell_type": "code",
      "source": [
        "# Start the app with Share=True for the gradio interface\n",
        "\n",
        "#ntlk error fix\n",
        "#https://github.com/delip/PyTorchNLPBook/issues/14\n",
        "import nltk\n",
        "nltk.download('punkt')\n",
        "\n",
        "#Auto agree to xtts\n",
        "import os\n",
        "os.environ[\"COQUI_TOS_AGREED\"] = \"1\"\n",
        "\n",
        "!python /content/app.py --share True"
      ],
      "metadata": {
        "id": "EZIZva9Tvdbb"
      },
      "execution_count": null,
      "outputs": []
    },
    {
      "cell_type": "code",
      "source": [
        "#ntlk error fix\n",
        "#https://github.com/delip/PyTorchNLPBook/issues/14\n",
        "import nltk\n",
        "nltk.download('punkt')\n",
        "\n",
        "#Auto agree to xtts\n",
        "import os\n",
        "os.environ[\"COQUI_TOS_AGREED\"] = \"1\"\n",
        "\n",
        "# To download the app.py and the Default_voice wav if not seen locally\n",
        "!wget -O /content/app.py https://raw.githubusercontent.com/DrewThomasson/ebook2audiobookXTTS/main/app.py\n",
        "!wget -O /content/default_voice.wav https://raw.githubusercontent.com/DrewThomasson/ebook2audiobookXTTS/main/default_voice.wav\n",
        "\n",
        "# Start the app with Share=True for the gradio interface\n",
        "!python /content/app.py --share True"
      ],
      "metadata": {
        "id": "658BTHueyLMo"
      },
      "execution_count": null,
      "outputs": []
    }
  ]
}
